{
 "cells": [
  {
   "cell_type": "markdown",
   "metadata": {
    "_uuid": "cfb9e0aec7e1e00fd3a5c7335109d7d50eeee66a"
   },
   "source": [
    "# Deep learning from scratch: Cancer malignancy detection as an example\n",
    "\n",
    "\n",
    "**This notebook holds the Python code used for building a neural network from scratch using Python**\n",
    "\n",
    "**During this tutorial we are going to:**\n",
    "- Create a neural network from scratch in Python. \n",
    "- Train the network using the gradient descent algorithm (will see what a gradient descent is in a bit).\n",
    "- We wil use the Wisconsin Cancer Data-set to predict if a tumor is benign or malignant based on 9 different features.\n",
    "- Explore deeply how back-propagation (the building block of pretty much all the DL algorithms) work.\n",
    "- Review some optimization techniques that are used during training a neural network. "
   ]
  },
  {
   "cell_type": "markdown",
   "metadata": {},
   "source": [
    "**First let us import all the packages needed for this tutorial:**"
   ]
  },
  {
   "cell_type": "code",
   "execution_count": 1,
   "metadata": {
    "_uuid": "9829662ef039d6732fca5d16404fd2c1d90fc260"
   },
   "outputs": [],
   "source": [
    "import numpy as np\n",
    "import matplotlib.pyplot as plt\n",
    "import pandas as pd \n",
    "from sklearn import preprocessing\n",
    "from sklearn.preprocessing import MinMaxScaler\n",
    "from sklearn import metrics\n",
    "from sklearn.metrics import confusion_matrix\n",
    "import itertools\n",
    "\n",
    "np.set_printoptions(threshold=np.inf)\n",
    "\n",
    "%matplotlib inline\n",
    "%load_ext autoreload\n",
    "%autoreload 2"
   ]
  },
  {
   "cell_type": "markdown",
   "metadata": {},
   "source": [
    "**What is a confusion matrix?**\n",
    "\n",
    "Refer to  [this excellent article](https://www.dataschool.io/simple-guide-to-confusion-matrix-terminology/) to learn more about confusion matrices from which  here is the eesential part:<br/>\n",
    "A confusion matrix is a metric that is used to evaluate the performance of a classification model (or \"classifier\") on a set of test data for which the true values are known. \n",
    "For example (taken from the above article), let us consider a confusion matrix for a binary classifier (though it can easily be extended to the case of more than two classes):\n",
    "\n",
    "|  n=165         | predicted NO     | predicted YES     |     |\n",
    "|----------------|------------------|-------------------|-----|\n",
    "| **actual NO**  | **TN**=50        | **FP**=10         | <span style=\"color:red\">60</span>    |\n",
    "| **actual YES** | **FN**=5         | **TP**=100        | <span style=\"color:green\">105</span> |\n",
    "| <i></i>        | <span style=\"color:blue\">55</span>   | <span style=\"color:blue\">110</span>  |\n",
    "\n",
    "* **Accuracy**: Overall, how often is the classifier correct?<br />\n",
    "    * (TP+TN)/total = (100+50)/165 = 0.91\n",
    "* **Misclassification Rate**: Overall, how often is it wrong?\n",
    "    * (FP+FN)/total = (10+5)/165 = 0.09\n",
    "    * equivalent to 1 minus Accuracy\n",
    "    * also known as \"Error Rate\"\n",
    "* **True Positive Rate**: When it's actually yes, how often does it predict yes?\n",
    "    * TP/actual yes = 100/105 = 0.95\n",
    "    * also known as \"Sensitivity\" or \"Recall\"\n",
    "* **False Positive Rate**: When it's actually no, how often does it predict yes?\n",
    "    * FP/actual no = 10/60 = 0.17\n",
    "* **True Negative Rate**: When it's actually no, how often does it predict no?\n",
    "    * TN/actual no = 50/60 = 0.83\n",
    "    * equivalent to 1 minus False Positive Rate\n",
    "    * also known as \"Specificity\"\n",
    "* **Precision**: When it predicts yes, how often is it correct?\n",
    "    * TP/predicted yes = 100/110 = 0.91\n",
    "* **Prevalence**: How often does the yes condition actually occur in our sample?\n",
    "    * actual yes/total = 105/165 = 0.64"
   ]
  },
  {
   "cell_type": "code",
   "execution_count": 2,
   "metadata": {
    "_uuid": "edd6966078337bd8fe38fc2e2287fc02b60d86e8"
   },
   "outputs": [],
   "source": [
    "def plot_confusion_matrix(a,b,t):\n",
    "    cf =confusion_matrix(a,b)\n",
    "    plt.imshow(cf,cmap=plt.cm.Blues,interpolation='nearest')\n",
    "    plt.colorbar()\n",
    "    plt.title(t)\n",
    "    plt.xlabel('predicted')\n",
    "    plt.ylabel('actual')\n",
    "    tick_marks = np.arange(len(set(a))) # length of classes\n",
    "    class_labels = ['0','1']\n",
    "    plt.xticks(tick_marks,class_labels)\n",
    "    plt.yticks(tick_marks,class_labels)\n",
    "    thresh = cf.max() / 2.\n",
    "    for i,j in itertools.product(range(cf.shape[0]),range(cf.shape[1])):\n",
    "        plt.text(j,i,format(cf[i,j],'d'),horizontalalignment='center',color='white' if cf[i,j] >thresh else 'black')\n",
    "    plt.show();"
   ]
  },
  {
   "cell_type": "markdown",
   "metadata": {
    "_uuid": "c82c6e18eb8a7995e8753c4c34d431c37aeb6152"
   },
   "source": [
    "**Let us build a neural network model with 2 layers**\n",
    "\n",
    "We are going to build a 2 layer neural network class with gradient descent in less than 100 lines of code"
   ]
  },
  {
   "cell_type": "code",
   "execution_count": 25,
   "metadata": {},
   "outputs": [],
   "source": [
    "class HealNet:\n",
    "    \n",
    "    def __init__(self, x, y):\n",
    "        self.debug = 0;\n",
    "        self.X=x\n",
    "        self.Y=y\n",
    "        self.Yh=np.zeros((1,self.Y.shape[1])) \n",
    "        self.L=2\n",
    "        self.dims = [9, 15, 1] \n",
    "        self.param = {}\n",
    "        self.ch = {}\n",
    "        self.grad = {}\n",
    "        self.loss = []\n",
    "        self.lr=0.003\n",
    "        self.sam = self.Y.shape[1]\n",
    "        self.threshold=0.5\n",
    "\n",
    "    def init_params(self):    \n",
    "        np.random.seed(1)\n",
    "        self.param['W1'] = np.random.randn(self.dims[1], self.dims[0]) / np.sqrt(self.dims[0]) \n",
    "        self.param['b1'] = np.zeros((self.dims[1], 1))        \n",
    "        self.param['W2'] = np.random.randn(self.dims[2], self.dims[1]) / np.sqrt(self.dims[1]) \n",
    "        self.param['b2'] = np.zeros((self.dims[2], 1))                \n",
    "        return \n",
    "\n",
    "    def forward(self):    \n",
    "        Z1 = self.param['W1'].dot(self.X) + self.param['b1'] \n",
    "        A1 = Relu(Z1)\n",
    "        self.ch['Z1'],self.ch['A1']=Z1,A1\n",
    "        \n",
    "        Z2 = self.param['W2'].dot(A1) + self.param['b2']  \n",
    "        A2 = Sigmoid(Z2)\n",
    "        self.ch['Z2'],self.ch['A2']=Z2,A2\n",
    "\n",
    "        self.Yh=A2\n",
    "        loss=self.compute_loss(A2)\n",
    "        return self.Yh, loss\n",
    "\n",
    "    def compute_loss(self, Yh):\n",
    "        loss = (1./self.sam) * (-np.dot(self.Y,np.log(Yh).T) - np.dot(1-self.Y, np.log(1-Yh).T))    \n",
    "        return loss\n",
    "\n",
    "    def backward(self):\n",
    "        dLoss_Yh = - (np.divide(self.Y, self.Yh ) - np.divide(1 - self.Y, 1 - self.Yh))    \n",
    "        \n",
    "        dLoss_Z2 = dLoss_Yh * dSigmoid(self.ch['Z2'])    \n",
    "        dLoss_A1 = np.dot(self.param[\"W2\"].T,dLoss_Z2)\n",
    "        dLoss_W2 = 1./self.ch['A1'].shape[1] * np.dot(dLoss_Z2,self.ch['A1'].T)\n",
    "        dLoss_b2 = 1./self.ch['A1'].shape[1] * np.dot(dLoss_Z2, np.ones([dLoss_Z2.shape[1],1])) \n",
    "                            \n",
    "        dLoss_Z1 = dLoss_A1 * dRelu(self.ch['Z1'])        \n",
    "        dLoss_A0 = np.dot(self.param[\"W1\"].T,dLoss_Z1)\n",
    "        dLoss_W1 = 1./self.X.shape[1] * np.dot(dLoss_Z1,self.X.T)\n",
    "        dLoss_b1 = 1./self.X.shape[1] * np.dot(dLoss_Z1, np.ones([dLoss_Z1.shape[1],1]))  \n",
    "        \n",
    "        self.param[\"W1\"] = self.param[\"W1\"] - self.lr * dLoss_W1\n",
    "        self.param[\"b1\"] = self.param[\"b1\"] - self.lr * dLoss_b1\n",
    "        self.param[\"W2\"] = self.param[\"W2\"] - self.lr * dLoss_W2\n",
    "        self.param[\"b2\"] = self.param[\"b2\"] - self.lr * dLoss_b2\n",
    "        \n",
    "        return\n",
    "\n",
    "\n",
    "    def predict(self, x, y):  \n",
    "        self.X=x\n",
    "        self.Y=y\n",
    "        comp = np.zeros((1,x.shape[1]))\n",
    "        pred, loss= self.forward()    \n",
    "    \n",
    "        for i in range(0, pred.shape[1]):\n",
    "            if pred[0,i] > self.threshold: comp[0,i] = 1\n",
    "            else: comp[0,i] = 0\n",
    "    \n",
    "        print(\"Acc: \" + str(np.sum((comp == y)/x.shape[1])))\n",
    "        \n",
    "        return comp\n",
    "    \n",
    "    def train(self, X, Y, iter = 3000):\n",
    "        np.random.seed(1)                         \n",
    "    \n",
    "        self.init_params()\n",
    "    \n",
    "        for i in range(0, iter):\n",
    "            Yh, loss=self.forward()\n",
    "            self.backward()\n",
    "        \n",
    "            if i % 500 == 0:\n",
    "                print (\"Cost after iteration %i: %f\" %(i, loss))\n",
    "                self.loss.append(loss)\n",
    "\n",
    "        plt.plot(np.squeeze(self.loss))\n",
    "        plt.ylabel('Loss')\n",
    "        plt.xlabel('Iter')\n",
    "        plt.title(\"Learning Rate =\" + str(self.lr))\n",
    "        plt.show()\n",
    "    \n",
    "        return"
   ]
  },
  {
   "cell_type": "markdown",
   "metadata": {},
   "source": []
  },
  {
   "cell_type": "markdown",
   "metadata": {},
   "source": [
    "**Activation functions**"
   ]
  },
  {
   "cell_type": "code",
   "execution_count": 21,
   "metadata": {
    "_uuid": "66c9cdd8523ba2f23f1f6cf95de6e9f999bdc7f4"
   },
   "outputs": [],
   "source": [
    "def Sigmoid(Z):\n",
    "    return 1/(1+np.exp(-Z))\n",
    "\n",
    "def Relu(Z):\n",
    "    return np.maximum(0,Z)\n",
    "\n",
    "def dRelu2(dZ, Z):    \n",
    "    dZ[Z <= 0] = 0    \n",
    "    return dZ\n",
    "\n",
    "def dRelu(x):\n",
    "    x[x<=0] = 0\n",
    "    x[x>0] = 1\n",
    "    return x\n",
    "\n",
    "def dSigmoid(Z):\n",
    "    s = 1/(1+np.exp(-Z))\n",
    "    dZ = s * (1-s)\n",
    "    return dZ"
   ]
  },
  {
   "cell_type": "markdown",
   "metadata": {
    "_uuid": "56346d9bba9c5c4121aa1549252826864a4ce32e"
   },
   "source": [
    "# Prepare the data\n",
    "**We use the data from this link:**<br>\n",
    "<a href=\"https://archive.ics.uci.edu/ml/machine-learning-databases/breast-cancer-wisconsin/breast-cancer-wisconsin.data\" target=\"_blank\">Wisconsin Cancer Dataset</a><br>\n",
    "\n",
    "* We store the data in .csv format in the machine.\n",
    "* We read the data using Pandas read_csv function.\n",
    "* Then we proceed to clean and prepare the data."
   ]
  },
  {
   "cell_type": "code",
   "execution_count": 13,
   "metadata": {},
   "outputs": [
    {
     "name": "stdout",
     "output_type": "stream",
     "text": [
      "  % Total    % Received % Xferd  Average Speed   Time    Time     Time  Current\n",
      "                                 Dload  Upload   Total   Spent    Left  Speed\n",
      "100 19889  100 19889    0     0  14727      0  0:00:01  0:00:01 --:--:-- 14743\n"
     ]
    }
   ],
   "source": [
    "!curl https://archive.ics.uci.edu/ml/machine-learning-databases/breast-cancer-wisconsin/breast-cancer-wisconsin.data --output wisconsin-cancer-dataset.csv"
   ]
  },
  {
   "cell_type": "code",
   "execution_count": 26,
   "metadata": {
    "_uuid": "ee89b668b46defd5105ab3f2a3cfce3f94a32c3d"
   },
   "outputs": [],
   "source": [
    "df = pd.read_csv('wisconsin-cancer-dataset.csv',header=None)\n",
    "df = df[~df[6].isin(['?'])]\n",
    "df = df.astype(float)\n",
    "df.iloc[:,10].replace(2, 0,inplace=True)\n",
    "df.iloc[:,10].replace(4, 1,inplace=True)\n",
    "\n",
    "df.head(3)\n",
    "scaled_df=df\n",
    "names = df.columns[0:10]\n",
    "scaler = MinMaxScaler() \n",
    "scaled_df = scaler.fit_transform(df.iloc[:,0:10]) \n",
    "scaled_df = pd.DataFrame(scaled_df, columns=names)\n"
   ]
  },
  {
   "cell_type": "code",
   "execution_count": 27,
   "metadata": {
    "_uuid": "fa1f16313a9cc5dce0564a1268b64984a8c7ae2b"
   },
   "outputs": [
    {
     "name": "stdout",
     "output_type": "stream",
     "text": [
      "(683, 11) (9, 500) (1, 500) (9, 182) (1, 182)\n"
     ]
    }
   ],
   "source": [
    "x   = scaled_df.iloc[0:500,1:10].values.transpose()\n",
    "y   = df.iloc[0:500,10:].values.transpose()\n",
    "\n",
    "xval= scaled_df.iloc[501:683,1:10].values.transpose()\n",
    "yval= df.iloc[501:683,10:].values.transpose()\n",
    "\n",
    "print(df.shape, x.shape, y.shape, xval.shape, yval.shape)\n",
    "\n",
    "nn      = HealNet(x,y)\n",
    "nn.lr   = 0.07\n",
    "nn.dims = [9, 15, 1] "
   ]
  },
  {
   "cell_type": "code",
   "execution_count": 28,
   "metadata": {
    "_uuid": "2627adb814e66d84710aa996b97c0b2f9c4565be",
    "scrolled": true
   },
   "outputs": [
    {
     "name": "stdout",
     "output_type": "stream",
     "text": [
      "Cost after iteration 0: 0.673967\n",
      "Cost after iteration 500: 0.122093\n",
      "Cost after iteration 1000: 0.108469\n",
      "Cost after iteration 1500: 0.103673\n",
      "Cost after iteration 2000: 0.100911\n",
      "Cost after iteration 2500: 0.099047\n",
      "Cost after iteration 3000: 0.097530\n",
      "Cost after iteration 3500: 0.096368\n",
      "Cost after iteration 4000: 0.095480\n",
      "Cost after iteration 4500: 0.094744\n",
      "Cost after iteration 5000: 0.094015\n",
      "Cost after iteration 5500: 0.093277\n",
      "Cost after iteration 6000: 0.092611\n",
      "Cost after iteration 6500: 0.091953\n",
      "Cost after iteration 7000: 0.091279\n",
      "Cost after iteration 7500: 0.090472\n",
      "Cost after iteration 8000: 0.089574\n",
      "Cost after iteration 8500: 0.088575\n",
      "Cost after iteration 9000: 0.087426\n",
      "Cost after iteration 9500: 0.086303\n",
      "Cost after iteration 10000: 0.085122\n",
      "Cost after iteration 10500: 0.084010\n",
      "Cost after iteration 11000: 0.083025\n",
      "Cost after iteration 11500: 0.082001\n",
      "Cost after iteration 12000: 0.080948\n",
      "Cost after iteration 12500: 0.079923\n",
      "Cost after iteration 13000: 0.078909\n",
      "Cost after iteration 13500: 0.077922\n",
      "Cost after iteration 14000: 0.076943\n",
      "Cost after iteration 14500: 0.075973\n",
      "Cost after iteration 15000: 0.074995\n",
      "Cost after iteration 15500: 0.073944\n",
      "Cost after iteration 16000: 0.071908\n",
      "Cost after iteration 16500: 0.070665\n",
      "Cost after iteration 17000: 0.069438\n",
      "Cost after iteration 17500: 0.068322\n",
      "Cost after iteration 18000: 0.067292\n",
      "Cost after iteration 18500: 0.066307\n",
      "Cost after iteration 19000: 0.065351\n",
      "Cost after iteration 19500: 0.064394\n",
      "Cost after iteration 20000: 0.063385\n",
      "Cost after iteration 20500: 0.062418\n",
      "Cost after iteration 21000: 0.061473\n",
      "Cost after iteration 21500: 0.060553\n",
      "Cost after iteration 22000: 0.059662\n",
      "Cost after iteration 22500: 0.058792\n",
      "Cost after iteration 23000: 0.057941\n",
      "Cost after iteration 23500: 0.057108\n",
      "Cost after iteration 24000: 0.056286\n",
      "Cost after iteration 24500: 0.055492\n",
      "Cost after iteration 25000: 0.054718\n",
      "Cost after iteration 25500: 0.053962\n",
      "Cost after iteration 26000: 0.053226\n",
      "Cost after iteration 26500: 0.052496\n",
      "Cost after iteration 27000: 0.051793\n",
      "Cost after iteration 27500: 0.051108\n",
      "Cost after iteration 28000: 0.050464\n",
      "Cost after iteration 28500: 0.049839\n",
      "Cost after iteration 29000: 0.049230\n",
      "Cost after iteration 29500: 0.048652\n",
      "Cost after iteration 30000: 0.048097\n",
      "Cost after iteration 30500: 0.047555\n",
      "Cost after iteration 31000: 0.047022\n",
      "Cost after iteration 31500: 0.046492\n",
      "Cost after iteration 32000: 0.045980\n",
      "Cost after iteration 32500: 0.045480\n",
      "Cost after iteration 33000: 0.044989\n",
      "Cost after iteration 33500: 0.044509\n",
      "Cost after iteration 34000: 0.044038\n",
      "Cost after iteration 34500: 0.043574\n",
      "Cost after iteration 35000: 0.043116\n",
      "Cost after iteration 35500: 0.042659\n",
      "Cost after iteration 36000: 0.042204\n",
      "Cost after iteration 36500: 0.041756\n",
      "Cost after iteration 37000: 0.041319\n",
      "Cost after iteration 37500: 0.040703\n",
      "Cost after iteration 38000: 0.040103\n",
      "Cost after iteration 38500: 0.039508\n",
      "Cost after iteration 39000: 0.038938\n",
      "Cost after iteration 39500: 0.038385\n",
      "Cost after iteration 40000: 0.037832\n",
      "Cost after iteration 40500: 0.037278\n",
      "Cost after iteration 41000: 0.036739\n",
      "Cost after iteration 41500: 0.036198\n",
      "Cost after iteration 42000: 0.035660\n",
      "Cost after iteration 42500: 0.035130\n",
      "Cost after iteration 43000: 0.034601\n",
      "Cost after iteration 43500: 0.034066\n",
      "Cost after iteration 44000: 0.033414\n",
      "Cost after iteration 44500: 0.032821\n",
      "Cost after iteration 45000: 0.032259\n",
      "Cost after iteration 45500: 0.031707\n",
      "Cost after iteration 46000: 0.031173\n",
      "Cost after iteration 46500: 0.030656\n",
      "Cost after iteration 47000: 0.030150\n",
      "Cost after iteration 47500: 0.029661\n",
      "Cost after iteration 48000: 0.029183\n",
      "Cost after iteration 48500: 0.028709\n",
      "Cost after iteration 49000: 0.028239\n",
      "Cost after iteration 49500: 0.027777\n",
      "Cost after iteration 50000: 0.027324\n",
      "Cost after iteration 50500: 0.026883\n",
      "Cost after iteration 51000: 0.026450\n",
      "Cost after iteration 51500: 0.026030\n",
      "Cost after iteration 52000: 0.025618\n",
      "Cost after iteration 52500: 0.025215\n",
      "Cost after iteration 53000: 0.024821\n",
      "Cost after iteration 53500: 0.024434\n",
      "Cost after iteration 54000: 0.024053\n",
      "Cost after iteration 54500: 0.023679\n",
      "Cost after iteration 55000: 0.023313\n",
      "Cost after iteration 55500: 0.022952\n",
      "Cost after iteration 56000: 0.022598\n",
      "Cost after iteration 56500: 0.022250\n",
      "Cost after iteration 57000: 0.021906\n",
      "Cost after iteration 57500: 0.021568\n",
      "Cost after iteration 58000: 0.021236\n",
      "Cost after iteration 58500: 0.020776\n",
      "Cost after iteration 59000: 0.020371\n",
      "Cost after iteration 59500: 0.020000\n",
      "Cost after iteration 60000: 0.019671\n",
      "Cost after iteration 60500: 0.019352\n",
      "Cost after iteration 61000: 0.018956\n",
      "Cost after iteration 61500: 0.018534\n",
      "Cost after iteration 62000: 0.018150\n",
      "Cost after iteration 62500: 0.017782\n",
      "Cost after iteration 63000: 0.017409\n",
      "Cost after iteration 63500: 0.017076\n",
      "Cost after iteration 64000: 0.016762\n",
      "Cost after iteration 64500: 0.016443\n",
      "Cost after iteration 65000: 0.016081\n",
      "Cost after iteration 65500: 0.015735\n",
      "Cost after iteration 66000: 0.015406\n",
      "Cost after iteration 66500: 0.015090\n"
     ]
    },
    {
     "data": {
      "image/png": "[encoded data removed]",
      "text/plain": [
       "<Figure size 432x288 with 1 Axes>"
      ]
     },
     "metadata": {
      "needs_background": "light"
     },
     "output_type": "display_data"
    }
   ],
   "source": [
    "nn.train(x, y, iter = 67000)"
   ]
  },
  {
   "cell_type": "code",
   "execution_count": 16,
   "metadata": {
    "_uuid": "32b18cc26a8ffe50bfd1e4cbd84ca2bc485b4075",
    "scrolled": true
   },
   "outputs": [
    {
     "ename": "KeyError",
     "evalue": "'W1'",
     "output_type": "error",
     "traceback": [
      "\u001b[0;31m---------------------------------------------------------------------------\u001b[0m",
      "\u001b[0;31mKeyError\u001b[0m                                  Traceback (most recent call last)",
      "\u001b[0;32m<ipython-input-16-91475cf4ad14>\u001b[0m in \u001b[0;36m<module>\u001b[0;34m\u001b[0m\n\u001b[0;32m----> 1\u001b[0;31m \u001b[0mpred_train\u001b[0m \u001b[0;34m=\u001b[0m \u001b[0mnn\u001b[0m\u001b[0;34m.\u001b[0m\u001b[0mpred\u001b[0m\u001b[0;34m(\u001b[0m\u001b[0mx\u001b[0m\u001b[0;34m,\u001b[0m \u001b[0my\u001b[0m\u001b[0;34m)\u001b[0m\u001b[0;34m\u001b[0m\u001b[0;34m\u001b[0m\u001b[0m\n\u001b[0m\u001b[1;32m      2\u001b[0m \u001b[0mpred_test\u001b[0m  \u001b[0;34m=\u001b[0m \u001b[0mnn\u001b[0m\u001b[0;34m.\u001b[0m\u001b[0mpred\u001b[0m\u001b[0;34m(\u001b[0m\u001b[0mxval\u001b[0m\u001b[0;34m,\u001b[0m \u001b[0myval\u001b[0m\u001b[0;34m)\u001b[0m\u001b[0;34m\u001b[0m\u001b[0;34m\u001b[0m\u001b[0m\n",
      "\u001b[0;32m<ipython-input-11-7384b5c8afc4>\u001b[0m in \u001b[0;36mpred\u001b[0;34m(self, x, y)\u001b[0m\n\u001b[1;32m     66\u001b[0m         \u001b[0mself\u001b[0m\u001b[0;34m.\u001b[0m\u001b[0mY\u001b[0m\u001b[0;34m=\u001b[0m\u001b[0my\u001b[0m\u001b[0;34m\u001b[0m\u001b[0;34m\u001b[0m\u001b[0m\n\u001b[1;32m     67\u001b[0m         \u001b[0mcomp\u001b[0m \u001b[0;34m=\u001b[0m \u001b[0mnp\u001b[0m\u001b[0;34m.\u001b[0m\u001b[0mzeros\u001b[0m\u001b[0;34m(\u001b[0m\u001b[0;34m(\u001b[0m\u001b[0;36m1\u001b[0m\u001b[0;34m,\u001b[0m\u001b[0mx\u001b[0m\u001b[0;34m.\u001b[0m\u001b[0mshape\u001b[0m\u001b[0;34m[\u001b[0m\u001b[0;36m1\u001b[0m\u001b[0;34m]\u001b[0m\u001b[0;34m)\u001b[0m\u001b[0;34m)\u001b[0m\u001b[0;34m\u001b[0m\u001b[0;34m\u001b[0m\u001b[0m\n\u001b[0;32m---> 68\u001b[0;31m         \u001b[0mpred\u001b[0m\u001b[0;34m,\u001b[0m \u001b[0mloss\u001b[0m\u001b[0;34m=\u001b[0m \u001b[0mself\u001b[0m\u001b[0;34m.\u001b[0m\u001b[0mforward\u001b[0m\u001b[0;34m(\u001b[0m\u001b[0;34m)\u001b[0m\u001b[0;34m\u001b[0m\u001b[0;34m\u001b[0m\u001b[0m\n\u001b[0m\u001b[1;32m     69\u001b[0m \u001b[0;34m\u001b[0m\u001b[0m\n\u001b[1;32m     70\u001b[0m         \u001b[0;32mfor\u001b[0m \u001b[0mi\u001b[0m \u001b[0;32min\u001b[0m \u001b[0mrange\u001b[0m\u001b[0;34m(\u001b[0m\u001b[0;36m0\u001b[0m\u001b[0;34m,\u001b[0m \u001b[0mpred\u001b[0m\u001b[0;34m.\u001b[0m\u001b[0mshape\u001b[0m\u001b[0;34m[\u001b[0m\u001b[0;36m1\u001b[0m\u001b[0;34m]\u001b[0m\u001b[0;34m)\u001b[0m\u001b[0;34m:\u001b[0m\u001b[0;34m\u001b[0m\u001b[0;34m\u001b[0m\u001b[0m\n",
      "\u001b[0;32m<ipython-input-11-7384b5c8afc4>\u001b[0m in \u001b[0;36mforward\u001b[0;34m(self)\u001b[0m\n\u001b[1;32m     25\u001b[0m \u001b[0;34m\u001b[0m\u001b[0m\n\u001b[1;32m     26\u001b[0m     \u001b[0;32mdef\u001b[0m \u001b[0mforward\u001b[0m\u001b[0;34m(\u001b[0m\u001b[0mself\u001b[0m\u001b[0;34m)\u001b[0m\u001b[0;34m:\u001b[0m\u001b[0;34m\u001b[0m\u001b[0;34m\u001b[0m\u001b[0m\n\u001b[0;32m---> 27\u001b[0;31m         \u001b[0mZ1\u001b[0m \u001b[0;34m=\u001b[0m \u001b[0mself\u001b[0m\u001b[0;34m.\u001b[0m\u001b[0mparam\u001b[0m\u001b[0;34m[\u001b[0m\u001b[0;34m'W1'\u001b[0m\u001b[0;34m]\u001b[0m\u001b[0;34m.\u001b[0m\u001b[0mdot\u001b[0m\u001b[0;34m(\u001b[0m\u001b[0mself\u001b[0m\u001b[0;34m.\u001b[0m\u001b[0mX\u001b[0m\u001b[0;34m)\u001b[0m \u001b[0;34m+\u001b[0m \u001b[0mself\u001b[0m\u001b[0;34m.\u001b[0m\u001b[0mparam\u001b[0m\u001b[0;34m[\u001b[0m\u001b[0;34m'b1'\u001b[0m\u001b[0;34m]\u001b[0m\u001b[0;34m\u001b[0m\u001b[0;34m\u001b[0m\u001b[0m\n\u001b[0m\u001b[1;32m     28\u001b[0m         \u001b[0mA1\u001b[0m \u001b[0;34m=\u001b[0m \u001b[0mRelu\u001b[0m\u001b[0;34m(\u001b[0m\u001b[0mZ1\u001b[0m\u001b[0;34m)\u001b[0m\u001b[0;34m\u001b[0m\u001b[0;34m\u001b[0m\u001b[0m\n\u001b[1;32m     29\u001b[0m         \u001b[0mself\u001b[0m\u001b[0;34m.\u001b[0m\u001b[0mch\u001b[0m\u001b[0;34m[\u001b[0m\u001b[0;34m'Z1'\u001b[0m\u001b[0;34m]\u001b[0m\u001b[0;34m,\u001b[0m\u001b[0mself\u001b[0m\u001b[0;34m.\u001b[0m\u001b[0mch\u001b[0m\u001b[0;34m[\u001b[0m\u001b[0;34m'A1'\u001b[0m\u001b[0;34m]\u001b[0m\u001b[0;34m=\u001b[0m\u001b[0mZ1\u001b[0m\u001b[0;34m,\u001b[0m\u001b[0mA1\u001b[0m\u001b[0;34m\u001b[0m\u001b[0;34m\u001b[0m\u001b[0m\n",
      "\u001b[0;31mKeyError\u001b[0m: 'W1'"
     ]
    }
   ],
   "source": [
    "pred_train = nn.predict(x, y)\n",
    "pred_test  = nn.predict(xval, yval)"
   ]
  },
  {
   "cell_type": "code",
   "execution_count": null,
   "metadata": {
    "_uuid": "5a1b5cd682f83a36783de3f66e32008b97257ce8"
   },
   "outputs": [],
   "source": [
    "nn.threshold=0.5\n",
    "\n",
    "nn.X,nn.Y=x, y \n",
    "target=np.around(np.squeeze(y), decimals=0).astype(np.int)\n",
    "predicted=np.around(np.squeeze(nn.pred(x,y)), decimals=0).astype(np.int)\n",
    "plot_confusion_matrix(target,predicted,'confusion_matrix Training Set')\n",
    "\n",
    "nn.X,nn.Y=xval, yval \n",
    "target=np.around(np.squeeze(yval), decimals=0).astype(np.int)\n",
    "predicted=np.around(np.squeeze(nn.pred(xval,yval)), decimals=0).astype(np.int)\n",
    "plot_confusion_matrix(target,predicted,'confusion_matrix Validation Set')"
   ]
  },
  {
   "cell_type": "code",
   "execution_count": null,
   "metadata": {
    "_uuid": "705464ad3877d8b1ee9bbc332e5a2c8dfdfe66ef"
   },
   "outputs": [],
   "source": [
    "nn.threshold=0.7\n",
    "\n",
    "nn.X,nn.Y=x, y \n",
    "target=np.around(np.squeeze(y), decimals=0).astype(np.int)\n",
    "predicted=np.around(np.squeeze(nn.pred(x,y)), decimals=0).astype(np.int)\n",
    "plot_confusion_matrix(target,predicted,'confusion_matrix Training Set')\n",
    "\n",
    "nn.X,nn.Y=xval, yval \n",
    "target=np.around(np.squeeze(yval), decimals=0).astype(np.int)\n",
    "predicted=np.around(np.squeeze(nn.pred(xval,yval)), decimals=0).astype(np.int)\n",
    "plot_confusion_matrix(target,predicted,'confusion_matrix Validation Set')\n",
    "\n"
   ]
  },
  {
   "cell_type": "code",
   "execution_count": null,
   "metadata": {
    "_uuid": "1c60eccb9a6c6c0aa9e0d903e1891232ebd18f7b"
   },
   "outputs": [],
   "source": [
    "nn.threshold=0.9\n",
    "\n",
    "nn.X,nn.Y=x, y \n",
    "target=np.around(np.squeeze(y), decimals=0).astype(np.int)\n",
    "predicted=np.around(np.squeeze(nn.pred(x,y)), decimals=0).astype(np.int)\n",
    "plot_confusion_matrix(target,predicted,'confusion_matrix Training Set')\n",
    "\n",
    "nn.X,nn.Y=xval, yval \n",
    "target=np.around(np.squeeze(yval), decimals=0).astype(np.int)\n",
    "predicted=np.around(np.squeeze(nn.pred(xval,yval)), decimals=0).astype(np.int)\n",
    "plot_confusion_matrix(target,predicted,'confusion_matrix Validation Set')"
   ]
  },
  {
   "cell_type": "code",
   "execution_count": null,
   "metadata": {
    "_uuid": "fe4cd4ca7ed980adf4c9a3c53bf923f19615ac92"
   },
   "outputs": [],
   "source": [
    "nn.X,nn.Y=xval, yval \n",
    "yvalh, loss = nn.forward()\n",
    "print(\"\\ny  = \",np.around(yval[:,0:50,], decimals=0).astype(np.int))       \n",
    "print(\"\\nyh =\",np.around(yvalh[:,0:50,], decimals=0).astype(np.int),\"\\n\")         "
   ]
  }
 ],
 "metadata": {
  "coursera": {
   "course_slug": "neural-networks-deep-learning",
   "graded_item_id": "TSPse",
   "launcher_item_id": "24mxX"
  },
  "kernelspec": {
   "display_name": "Python 3",
   "language": "python",
   "name": "python3"
  },
  "language_info": {
   "codemirror_mode": {
    "name": "ipython",
    "version": 3
   },
   "file_extension": ".py",
   "mimetype": "text/x-python",
   "name": "python",
   "nbconvert_exporter": "python",
   "pygments_lexer": "ipython3",
   "version": "3.7.2"
  }
 },
 "nbformat": 4,
 "nbformat_minor": 1
}
